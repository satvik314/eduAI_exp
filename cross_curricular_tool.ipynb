{
  "nbformat": 4,
  "nbformat_minor": 0,
  "metadata": {
    "colab": {
      "provenance": [],
      "authorship_tag": "ABX9TyP4Rx2ST5lutTlJFcXVEWi4",
      "include_colab_link": true
    },
    "kernelspec": {
      "name": "python3",
      "display_name": "Python 3"
    },
    "language_info": {
      "name": "python"
    }
  },
  "cells": [
    {
      "cell_type": "markdown",
      "metadata": {
        "id": "view-in-github",
        "colab_type": "text"
      },
      "source": [
        "<a href=\"https://colab.research.google.com/github/satvik314/eduAI_exp/blob/main/cross_curricular_tool.ipynb\" target=\"_parent\"><img src=\"https://colab.research.google.com/assets/colab-badge.svg\" alt=\"Open In Colab\"/></a>"
      ]
    },
    {
      "cell_type": "code",
      "execution_count": 1,
      "metadata": {
        "colab": {
          "base_uri": "https://localhost:8080/"
        },
        "id": "W1fpOTJROfub",
        "outputId": "a926f06f-98cf-4002-e112-90ee79774fba"
      },
      "outputs": [
        {
          "output_type": "stream",
          "name": "stdout",
          "text": [
            "\u001b[2K     \u001b[90m━━━━━━━━━━━━━━━━━━━━━━━━━━━━━━━━━━━━━━━\u001b[0m \u001b[32m727.6/727.6 kB\u001b[0m \u001b[31m6.0 MB/s\u001b[0m eta \u001b[36m0:00:00\u001b[0m\n",
            "\u001b[2K     \u001b[90m━━━━━━━━━━━━━━━━━━━━━━━━━━━━━━━━━━━━━━━━\u001b[0m \u001b[32m71.9/71.9 kB\u001b[0m \u001b[31m4.1 MB/s\u001b[0m eta \u001b[36m0:00:00\u001b[0m\n",
            "\u001b[2K     \u001b[90m━━━━━━━━━━━━━━━━━━━━━━━━━━━━━━━━━━━━━━━━\u001b[0m \u001b[32m1.0/1.0 MB\u001b[0m \u001b[31m12.2 MB/s\u001b[0m eta \u001b[36m0:00:00\u001b[0m\n",
            "\u001b[2K     \u001b[90m━━━━━━━━━━━━━━━━━━━━━━━━━━━━━━━━━━━━━━━━\u001b[0m \u001b[32m90.0/90.0 kB\u001b[0m \u001b[31m6.6 MB/s\u001b[0m eta \u001b[36m0:00:00\u001b[0m\n",
            "\u001b[2K     \u001b[90m━━━━━━━━━━━━━━━━━━━━━━━━━━━━━━━━━━━━━━━\u001b[0m \u001b[32m268.8/268.8 kB\u001b[0m \u001b[31m9.1 MB/s\u001b[0m eta \u001b[36m0:00:00\u001b[0m\n",
            "\u001b[2K     \u001b[90m━━━━━━━━━━━━━━━━━━━━━━━━━━━━━━━━━━━━━━━\u001b[0m \u001b[32m149.6/149.6 kB\u001b[0m \u001b[31m6.8 MB/s\u001b[0m eta \u001b[36m0:00:00\u001b[0m\n",
            "\u001b[2K     \u001b[90m━━━━━━━━━━━━━━━━━━━━━━━━━━━━━━━━━━━━━━━\u001b[0m \u001b[32m114.5/114.5 kB\u001b[0m \u001b[31m3.8 MB/s\u001b[0m eta \u001b[36m0:00:00\u001b[0m\n",
            "\u001b[2K     \u001b[90m━━━━━━━━━━━━━━━━━━━━━━━━━━━━━━━━━━━━━━━━\u001b[0m \u001b[32m49.1/49.1 kB\u001b[0m \u001b[31m3.2 MB/s\u001b[0m eta \u001b[36m0:00:00\u001b[0m\n",
            "\u001b[?25h"
          ]
        }
      ],
      "source": [
        "!pip install -qU langchain openai"
      ]
    },
    {
      "cell_type": "code",
      "source": [
        "from langchain import OpenAI, PromptTemplate\n",
        "from langchain.chains import LLMChain\n",
        "from langchain.callbacks import get_openai_callback"
      ],
      "metadata": {
        "id": "H3fSJHwAPWWA"
      },
      "execution_count": 2,
      "outputs": []
    },
    {
      "cell_type": "code",
      "source": [
        "import os\n",
        "from getpass import getpass\n",
        "\n",
        "os.environ['OPENAI_API_KEY'] = getpass()"
      ],
      "metadata": {
        "colab": {
          "base_uri": "https://localhost:8080/"
        },
        "id": "2R3TSCfVT_kS",
        "outputId": "708861b6-7024-42af-9356-865fca667b44"
      },
      "execution_count": 4,
      "outputs": [
        {
          "name": "stdout",
          "output_type": "stream",
          "text": [
            "··········\n"
          ]
        }
      ]
    },
    {
      "cell_type": "code",
      "source": [
        "llm = OpenAI(temperature = 0)\n",
        "template = \"\"\"Please provide an example of a learning activity that integrates the subjects {Subject_1}, {Subject_2}, and {Subject_3}, \n",
        "with a focus on the topics {Topic_1}, {Topic_2}, and {Topic_3}, respectively. \n",
        "The activity should help students see the connections between the subjects, similar to how studying the impact of the Industrial \n",
        "Revolution on art, literature, and science helps students understand the interdisciplinary nature of historical events. \n",
        "Include a unifying theme, a brief objective statement, and a description of how each subject and topic relates to the theme. \n",
        "Also, suggest engaging activities or projects for students to reinforce their understanding of the interconnected nature of these subjects.\n",
        "Please keep the theme that is relatable to the topics and simple enough to understand.\n",
        "Generate answers in a json format.\n",
        "\"\"\"\n",
        "prompt = PromptTemplate(input_variables = ['Subject_1','Subject_2','Subject_3', 'Topic_1','Topic_2','Topic_3'], template = template)\n",
        "promptgen_chain = LLMChain(llm = llm, prompt = prompt)\n"
      ],
      "metadata": {
        "id": "IX-hRDbwQ0W0"
      },
      "execution_count": 10,
      "outputs": []
    },
    {
      "cell_type": "code",
      "source": [
        "def count_tokens(chain, query):\n",
        "  with get_openai_callback() as cb:\n",
        "    result = chain.run(query)\n",
        "    print(f'Spent a total of {cb.total_tokens} tokens.')\n",
        "\n",
        "  return result"
      ],
      "metadata": {
        "id": "gmfWmGHKT9Vy"
      },
      "execution_count": 11,
      "outputs": []
    },
    {
      "cell_type": "code",
      "source": [
        "count_tokens(promptgen_chain, {'Subject_1': 'Math', 'Subject_2':'Biology', 'Subject_3':'English', 'Topic_1': 'Fractions','Topic_2':'Cells', 'Topic_3':'Tenses'})"
      ],
      "metadata": {
        "colab": {
          "base_uri": "https://localhost:8080/",
          "height": 161
        },
        "id": "43W_O0ihUTRn",
        "outputId": "056097d6-93da-4876-d5b3-cee7bad20763"
      },
      "execution_count": 12,
      "outputs": [
        {
          "output_type": "stream",
          "name": "stdout",
          "text": [
            "Spent a total of 417 tokens.\n"
          ]
        },
        {
          "output_type": "execute_result",
          "data": {
            "text/plain": [
              "'\\nTheme: The Impact of Technology\\nObjective: To understand the impact of technology on fractions, cells, and tenses.\\n\\nMath: Students will explore how technology has impacted the way fractions are used in everyday life. They will use calculators to solve fraction problems and explore how technology has made it easier to work with fractions.\\n\\nBiology: Students will explore how technology has impacted the way cells are studied. They will use microscopes to observe cells and explore how technology has made it easier to study cells.\\n\\nEnglish: Students will explore how technology has impacted the way tenses are used in writing. They will use computers to write sentences in different tenses and explore how technology has made it easier to use tenses correctly.\\n\\nActivities/Projects:\\n1. Have students create a presentation that explains how technology has impacted fractions, cells, and tenses.\\n2. Have students create a poster that illustrates the impact of technology on fractions, cells, and tenses.\\n3. Have students create a video that explains how technology has impacted fractions, cells, and tenses.\\n4. Have students create a game that tests their knowledge of how technology has impacted fractions, cells, and tenses.\\n\\n{\\n   '"
            ],
            "application/vnd.google.colaboratory.intrinsic+json": {
              "type": "string"
            }
          },
          "metadata": {},
          "execution_count": 12
        }
      ]
    },
    {
      "cell_type": "code",
      "source": [],
      "metadata": {
        "id": "2SjkZEYoUjtB"
      },
      "execution_count": null,
      "outputs": []
    }
  ]
}